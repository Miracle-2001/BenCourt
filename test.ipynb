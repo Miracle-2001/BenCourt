{
 "cells": [
  {
   "cell_type": "code",
   "execution_count": null,
   "metadata": {},
   "outputs": [],
   "source": [
    "from sentence_transformers import SentenceTransformer\n"
   ]
  },
  {
   "cell_type": "code",
   "execution_count": null,
   "metadata": {},
   "outputs": [],
   "source": [
    "model = SentenceTransformer(\"all-MiniLM-L6-v2\")\n",
    "\n",
    "sentences = [\n",
    "    \"That is a happy person\",\n",
    "    \"That is a happy dog\",\n",
    "    \"That is a very happy person\",\n",
    "    \"Today is a sunny day\"\n",
    "]\n",
    "embeddings = model.encode(sentences)\n",
    "\n",
    "similarities = model.similarity(embeddings, embeddings)\n",
    "print(similarities.shape)\n",
    "# [4, 4]"
   ]
  },
  {
   "cell_type": "code",
   "execution_count": null,
   "metadata": {},
   "outputs": [],
   "source": [
    "tim=0\n",
    "\n",
    "def f():\n",
    "    global tim\n",
    "    print(id(tim))\n",
    "    tim=10\n",
    "    \n",
    "def g():\n",
    "    global tim\n",
    "    print(id(tim))\n",
    "    tim=20\n",
    "    \n",
    "f()\n",
    "f()\n",
    "g()\n",
    "f()\n",
    "\n",
    "print(tim)\n",
    "print(id(tim))"
   ]
  },
  {
   "cell_type": "code",
   "execution_count": null,
   "metadata": {},
   "outputs": [],
   "source": [
    "S=\"是。你是什么东西\"\n",
    "print(S)\n",
    "print(S[0])\n",
    "print(S[2:])"
   ]
  },
  {
   "cell_type": "code",
   "execution_count": null,
   "metadata": {},
   "outputs": [],
   "source": [
    "import json\n",
    "def load_json(file_path):\n",
    "    \"\"\"\n",
    "    加载JSON文件\n",
    "    :param file_path: 文件路径\n",
    "    :return: JSON数据\n",
    "    \"\"\"\n",
    "    with open(file_path, \"r\", encoding=\"utf-8\") as f:\n",
    "        return json.load(f)\n",
    "\n",
    "case_data=load_json(\"./data/example/data.json\")\n",
    "print(case_data['evidence'])\n",
    "print(len(case_data['evidence']))"
   ]
  },
  {
   "cell_type": "code",
   "execution_count": null,
   "metadata": {},
   "outputs": [],
   "source": [
    "dict={\"0\":3,\"1\":2}\n",
    "\n",
    "for i in range(2):\n",
    "    print(dict[str(i)])"
   ]
  },
  {
   "cell_type": "code",
   "execution_count": null,
   "metadata": {},
   "outputs": [],
   "source": [
    "import jieba\n",
    "# print(\"Full Mode: \" + \"/ \".join(seg_list))\n",
    "print(\" \".join(jieba.cut(\"我来到北京清华大学\")).split())"
   ]
  },
  {
   "cell_type": "code",
   "execution_count": 25,
   "metadata": {},
   "outputs": [
    {
     "name": "stdout",
     "output_type": "stream",
     "text": [
      "{                                                                                                           \n",
      "    \"defendant_information\": \"被告人秦龙，男，XXXX年XX月XX日出生，身份证号码XXXXXXXXXXXXXXXXXX，户籍地黑龙江省 哈尔滨市，因涉嫌犯危险驾驶罪被起诉。\",                                                                         \n",
      "    \"prosecution_statement\": \"大庆市萨尔图区人民检察院以庆萨检诉刑诉〔XXXX〕XX号起诉书指控被告人秦龙犯危险驾驶 罪。检察院指控：XXXX年XX月XX日XX时许，被告人秦龙饮酒后驾驶黑EXXXX奥迪A6轿车沿中九路行驶至萨尔图区公园桥引路时，被执勤民警查获。经现场呼气酒精含量检测及进一步血样鉴定，证实秦龙血液中乙醇含量达到醉酒标准。公诉机关认为，被告 人秦龙的行为已构成危险驾驶罪。\",\n",
      "    \"evidence\": [\n",
      "        \"1. 现场勘查笔录及照片，证明案发地点及现场情况。\",\n",
      "        \"2. 呼气酒精含量检测单及血样提取登记表，证明被告人秦龙被查时的酒精含量。\",\n",
      "        \"3. 大庆市公安局刑事技术支队鉴定意见，证明秦龙血液中乙醇含量达到醉酒标准。\",\n",
      "        \"4. 被告人秦龙的供述，证明其对酒后驾驶的事实供认不讳。\",\n",
      "        \"5. 其他相关书证、物证\"\n",
      "    ],\n",
      "    \"debate_focus\": [\n",
      "        \"1. 被告人秦龙的行为是否构成危险驾驶罪。\",\n",
      "        \"2. 被告人秦龙的酒精含量检测程序是否合法。\",\n",
      "        \"3. 被告人秦龙是否有悔罪表现，是否适用缓刑。\",\n",
      "        \"4. 证据是否充分，是否排除合理怀疑。\"\n",
      "    ]\n",
      "}\n"
     ]
    }
   ],
   "source": [
    "crime=\"\"\"```json\n",
    "{                                                                                                           \n",
    "    \"defendant_information\": \"被告人秦龙，男，XXXX年XX月XX日出生，身份证号码XXXXXXXXXXXXXXXXXX，户籍地黑龙江省 哈尔滨市，因涉嫌犯危险驾驶罪被起诉。\",                                                                         \n",
    "    \"prosecution_statement\": \"大庆市萨尔图区人民检察院以庆萨检诉刑诉〔XXXX〕XX号起诉书指控被告人秦龙犯危险驾驶 罪。检察院指控：XXXX年XX月XX日XX时许，被告人秦龙饮酒后驾驶黑EXXXX奥迪A6轿车沿中九路行驶至萨尔图区公园桥引路时，被执勤民警查获。经现场呼气酒精含量检测及进一步血样鉴定，证实秦龙血液中乙醇含量达到醉酒标准。公诉机关认为，被告 人秦龙的行为已构成危险驾驶罪。\",\n",
    "    \"evidence\": [\n",
    "        \"1. 现场勘查笔录及照片，证明案发地点及现场情况。\",\n",
    "        \"2. 呼气酒精含量检测单及血样提取登记表，证明被告人秦龙被查时的酒精含量。\",\n",
    "        \"3. 大庆市公安局刑事技术支队鉴定意见，证明秦龙血液中乙醇含量达到醉酒标准。\",\n",
    "        \"4. 被告人秦龙的供述，证明其对酒后驾驶的事实供认不讳。\",\n",
    "        \"5. 其他相关书证、物证\"\n",
    "    ],\n",
    "    \"debate_focus\": [\n",
    "        \"1. 被告人秦龙的行为是否构成危险驾驶罪。\",\n",
    "        \"2. 被告人秦龙的酒精含量检测程序是否合法。\",\n",
    "        \"3. 被告人秦龙是否有悔罪表现，是否适用缓刑。\",\n",
    "        \"4. 证据是否充分，是否排除合理怀疑。\"\n",
    "    ]\n",
    "}\n",
    "```\"\"\"\n",
    "crime=crime[8:len(crime)-4]\n",
    "print(crime)\n"
   ]
  },
  {
   "cell_type": "code",
   "execution_count": 26,
   "metadata": {},
   "outputs": [],
   "source": [
    "import json\n",
    "crime=json.loads(crime)\n",
    "with open('./dat.json', \"w\", encoding=\"utf-8\") as f:\n",
    "        json.dump(crime, f, ensure_ascii=False, indent=2)"
   ]
  },
  {
   "cell_type": "raw",
   "metadata": {
    "vscode": {
     "languageId": "raw"
    }
   },
   "source": [
    "尹巍盗窃罪一审刑事判决书\n",
    "北京市海淀区人民法院刑事判决书（2018）京0108刑初1214号：\n",
    "北京市海淀区人民检察院以京海检轻罪刑诉（2018）773号起诉书指控被告人尹巍犯盗窃罪，向本院提起公诉。\n",
    "本院于2018年6月14日立案，并依法组成合议庭，公开开庭审理了本案。\n",
    "北京市海淀区人民检察院指派检察员王赫出庭支持公诉，被告人尹巍及其辩护人马田田到庭参加了诉讼。\n",
    "现已审理终结\n",
    "北京市海淀区人民检察院指控：2017年12月，被告人尹巍多次在本市海淀区盗窃财物。具体事实如下：（一）2017年12月9日15时许，被告人尹巍在本市海淀区欧美汇购物中心二层ＭＪｓｔｙｌｅ店内，盗窃白色毛衣一件（价值人民币259元）。现赃物已起获并发还。（二）2017年12月9日16时许，被告人尹巍在本市海淀区欧美汇购物中心地下一层加末店内，盗窃米白色大衣一件（价值人民币1199元）。现赃物已起获并发还。（三）2017年12月11日19时许，被告人尹巍在本市海淀区新中关购物中心Ｍ层酷乐潮玩店内，盗窃耳机、手套、化妆镜等商品共八件（共计价值人民币357.3元）。现赃物已起获并发还。（四）2017年12月11日20时许，被告人尹巍在本市海淀区欧美汇购物中心万宁超市内，盗窃橙汁、牛肉干等商品共四件（共计价值人民币58.39元）。现赃物已起获并发还。2017年12月11日，被告人尹巍被公安机关抓获，其到案后如实供述了上述犯罪事实。经鉴定，被告人尹巍被诊断为精神分裂症，限制刑事责任能力，有受审能力。\n",
    "针对上述指控，检察机关向本院提供了相应的证据材料，认为被告人尹巍的行为触犯了《中华人民共和国刑法》第二百六十四条之规定，构成盗窃罪，提请本院依法对被告人尹巍定罪处罚。被告人尹巍对起诉书指控的事实和罪名均未提出异议。其辩护人认为,被告人尹巍认罪态度好，系初犯，赃物均已起获并发还，且系限制刑事责任能力人，希望法庭对她从轻处罚。\n",
    "经审理查明：被告人尹巍于2017年12月，多次在本市海淀区盗窃财物。具体事实如下：（一）2017年12月9日15时许，被告人尹巍在本市海淀区欧美汇购物中心二层ＭＪｓｔｙｌｅ店内，盗窃白色毛衣一件（价值人民币259元）。现赃物已起获并发还。（二）2017年12月9日16时许，被告人尹巍在本市海淀区欧美汇购物中心地下一层加末店内，盗窃米白色大衣一件（价值人民币1199元）。现赃物已起获并发还。（三）2017年12月11日19时许，被告人尹巍在本市海淀区新中关购物中心Ｍ层酷乐潮玩店内，盗窃耳机、手套、化妆镜等商品共八件（共计价值人民币357.3元）。现赃物已起获并发还。（四）2017年12月11日20时许，被告人尹巍在本市海淀区欧美汇购物中心万宁超市内，盗窃橙汁、牛肉干等商品共四件（共计价值人民币58.39元）。现赃物已起获并发还。2017年12月11日，被告人尹巍被公安机关抓获，其到案后如实供述了上述犯罪事实。经鉴定，被告人尹巍被诊断为精神分裂症，限制刑事责任能力，有受审能力。\n",
    "上述事实，被告人尹巍及其辩护人在开庭审理过程中亦无异议，并有被告人尹巍的供述，证人侯某、乌某、田某、韩某、赵某、许某的证言，辨认笔录，受案登记表，精神疾病司法鉴定意见书，扣押笔录、扣押决定书、扣押清单，到案经过，户籍资料等证据证实，足以认定本院认为，被告人尹巍以非法占有为目的，多次盗窃他人财物，其行为已构成盗窃罪，应予惩处。\n",
    "北京市海淀区人民检察院指控被告人尹巍犯盗窃罪的事实清楚，证据确实充分，指控罪名成立。被告人尹巍到案后能够如实供述自己的犯罪事实，认罪态度好，且赃物均已起获并发还；另外，被告人尹巍系尚未完全丧失辨认或者控制自己行为能力的精神病人，故本院依法对其从轻处罚。辩护人的相关辩护意见本院酌予采纳。\n",
    "依照《中华人民共和国刑法》第二百六十四条、第十八条第三款、第六十七条第三款、第五十三条之规定，判决如下被告人尹巍犯盗窃罪，判处有期徒刑九个月，罚金人民币一千元。（刑期从判决执行之日起计算；判决执行以前先行羁押的，羁押一日折抵刑期一日，即自2017年12月11日起至2018年9月10日止。罚金限自本判决生效之次日起十日内缴纳。）\n",
    "如不服本判决，可在接到判决书的第二日起十日内，通过本院或者直接向北京市第一中级人民法院提出上诉。书面上诉的，应当提交上诉状正本一份，副本一份\n",
    "审判长：于洋\n",
    "人民陪审员：袁士芳\n",
    "人民陪审员：罗红云\n",
    "二〇一八年八月三日\n",
    "（院印）\n",
    "书记员 杜鹃"
   ]
  }
 ],
 "metadata": {
  "kernelspec": {
   "display_name": "AIGC",
   "language": "python",
   "name": "python3"
  },
  "language_info": {
   "codemirror_mode": {
    "name": "ipython",
    "version": 3
   },
   "file_extension": ".py",
   "mimetype": "text/x-python",
   "name": "python",
   "nbconvert_exporter": "python",
   "pygments_lexer": "ipython3",
   "version": "3.8.19"
  }
 },
 "nbformat": 4,
 "nbformat_minor": 2
}
